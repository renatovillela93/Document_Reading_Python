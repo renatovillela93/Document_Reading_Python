{
 "cells": [
  {
   "cell_type": "markdown",
   "id": "de58cd45",
   "metadata": {},
   "source": [
    "#### Bibliotecas"
   ]
  },
  {
   "cell_type": "code",
   "execution_count": 2,
   "id": "2d75a849",
   "metadata": {},
   "outputs": [
    {
     "data": {
      "text/html": [
       "<div>\n",
       "<style scoped>\n",
       "    .dataframe tbody tr th:only-of-type {\n",
       "        vertical-align: middle;\n",
       "    }\n",
       "\n",
       "    .dataframe tbody tr th {\n",
       "        vertical-align: top;\n",
       "    }\n",
       "\n",
       "    .dataframe thead th {\n",
       "        text-align: right;\n",
       "    }\n",
       "</style>\n",
       "<table border=\"1\" class=\"dataframe\">\n",
       "  <thead>\n",
       "    <tr style=\"text-align: right;\">\n",
       "      <th></th>\n",
       "      <th>Name</th>\n",
       "      <th>Age</th>\n",
       "      <th>Sex</th>\n",
       "    </tr>\n",
       "  </thead>\n",
       "  <tbody>\n",
       "    <tr>\n",
       "      <th>0</th>\n",
       "      <td>Braund, Mr. Owen Harris</td>\n",
       "      <td>22</td>\n",
       "      <td>male</td>\n",
       "    </tr>\n",
       "    <tr>\n",
       "      <th>1</th>\n",
       "      <td>Allen, Mr. William Henry</td>\n",
       "      <td>35</td>\n",
       "      <td>male</td>\n",
       "    </tr>\n",
       "    <tr>\n",
       "      <th>2</th>\n",
       "      <td>Bonnell, Miss. Elizabeth</td>\n",
       "      <td>58</td>\n",
       "      <td>female</td>\n",
       "    </tr>\n",
       "  </tbody>\n",
       "</table>\n",
       "</div>"
      ],
      "text/plain": [
       "                       Name  Age     Sex\n",
       "0   Braund, Mr. Owen Harris   22    male\n",
       "1  Allen, Mr. William Henry   35    male\n",
       "2  Bonnell, Miss. Elizabeth   58  female"
      ]
     },
     "execution_count": 2,
     "metadata": {},
     "output_type": "execute_result"
    }
   ],
   "source": [
    "# pandas\n",
    "\n",
    "# Primeira coisa é entrar no site da biblioteca e procurar algo como getting started, quickstart, e estudar os principios basicos\n",
    "# Por exemplo, vamos seguir a pagina getting started do pandas\n",
    "# Link: https://pandas.pydata.org/docs/getting_started/intro_tutorials/01_table_oriented.html#min-tut-01-tableoriented\n",
    "\n",
    "import pandas as pd\n",
    "\n",
    "df = pd.DataFrame({\n",
    "        \"Name\": [\n",
    "            \"Braund, Mr. Owen Harris\",\n",
    "            \"Allen, Mr. William Henry\",\n",
    "            \"Bonnell, Miss. Elizabeth\",\n",
    "        ],\n",
    "        \"Age\": [22, 35, 58],\n",
    "        \"Sex\": [\"male\", \"male\", \"female\"],\n",
    "    })\n",
    "\n",
    "df\n",
    "\n",
    "# pd.DataFrame -> recebe um dicionario como parametro e cria a tabela a partir do dicionario"
   ]
  },
  {
   "cell_type": "code",
   "execution_count": 6,
   "id": "aa62b090",
   "metadata": {},
   "outputs": [
    {
     "data": {
      "text/plain": [
       "0    22\n",
       "1    35\n",
       "2    58\n",
       "Name: Age, dtype: int64"
      ]
     },
     "metadata": {},
     "output_type": "display_data"
    },
    {
     "data": {
      "text/plain": [
       "0    22\n",
       "1    35\n",
       "2    58\n",
       "Name: Age, dtype: int64"
      ]
     },
     "metadata": {},
     "output_type": "display_data"
    }
   ],
   "source": [
    "display(df['Age'])\n",
    "# another option is create a new collumn (or Series)\n",
    "\n",
    "ages = pd.Series([22, 35, 58], name=\"Age\")\n",
    "display(ages)"
   ]
  },
  {
   "cell_type": "code",
   "execution_count": null,
   "id": "5dd52663",
   "metadata": {},
   "outputs": [],
   "source": [
    "# requests\n",
    "\n",
    "#PyPI - project links na barra lateral\n",
    "# Read the docs -> documentação\n",
    "# Github -> READ.ME"
   ]
  },
  {
   "cell_type": "markdown",
   "id": "5636220b",
   "metadata": {},
   "source": [
    "#### Funções Específicas"
   ]
  },
  {
   "cell_type": "code",
   "execution_count": 24,
   "id": "53dbf246",
   "metadata": {},
   "outputs": [
    {
     "data": {
      "text/html": [
       "<div>\n",
       "<style scoped>\n",
       "    .dataframe tbody tr th:only-of-type {\n",
       "        vertical-align: middle;\n",
       "    }\n",
       "\n",
       "    .dataframe tbody tr th {\n",
       "        vertical-align: top;\n",
       "    }\n",
       "\n",
       "    .dataframe thead th {\n",
       "        text-align: right;\n",
       "    }\n",
       "</style>\n",
       "<table border=\"1\" class=\"dataframe\">\n",
       "  <thead>\n",
       "    <tr style=\"text-align: right;\">\n",
       "      <th></th>\n",
       "      <th>Cliente</th>\n",
       "      <th>Data Pagamento</th>\n",
       "      <th>Data Pagamento 2</th>\n",
       "    </tr>\n",
       "  </thead>\n",
       "  <tbody>\n",
       "    <tr>\n",
       "      <th>0</th>\n",
       "      <td>Fulano</td>\n",
       "      <td>22/09/2022</td>\n",
       "      <td>09-22-22</td>\n",
       "    </tr>\n",
       "    <tr>\n",
       "      <th>1</th>\n",
       "      <td>Beltrano</td>\n",
       "      <td>17/04/2022</td>\n",
       "      <td>04-17-22</td>\n",
       "    </tr>\n",
       "    <tr>\n",
       "      <th>2</th>\n",
       "      <td>Ciclano</td>\n",
       "      <td>21/02/2022</td>\n",
       "      <td>02-21-22</td>\n",
       "    </tr>\n",
       "    <tr>\n",
       "      <th>3</th>\n",
       "      <td>Lira</td>\n",
       "      <td>27/12/2022</td>\n",
       "      <td>12-27-22</td>\n",
       "    </tr>\n",
       "    <tr>\n",
       "      <th>4</th>\n",
       "      <td>Julia</td>\n",
       "      <td>01/02/2022</td>\n",
       "      <td>02-01-22</td>\n",
       "    </tr>\n",
       "    <tr>\n",
       "      <th>5</th>\n",
       "      <td>Marcus</td>\n",
       "      <td>08/07/2022</td>\n",
       "      <td>07-08-22</td>\n",
       "    </tr>\n",
       "    <tr>\n",
       "      <th>6</th>\n",
       "      <td>Amanda</td>\n",
       "      <td>28/09/2022</td>\n",
       "      <td>09-28-22</td>\n",
       "    </tr>\n",
       "    <tr>\n",
       "      <th>7</th>\n",
       "      <td>Larissa</td>\n",
       "      <td>28/05/2022</td>\n",
       "      <td>05-28-22</td>\n",
       "    </tr>\n",
       "    <tr>\n",
       "      <th>8</th>\n",
       "      <td>Alon</td>\n",
       "      <td>06/10/2022</td>\n",
       "      <td>10-06-22</td>\n",
       "    </tr>\n",
       "  </tbody>\n",
       "</table>\n",
       "</div>"
      ],
      "text/plain": [
       "    Cliente Data Pagamento Data Pagamento 2\n",
       "0    Fulano     22/09/2022         09-22-22\n",
       "1  Beltrano     17/04/2022         04-17-22\n",
       "2   Ciclano     21/02/2022         02-21-22\n",
       "3      Lira     27/12/2022         12-27-22\n",
       "4     Julia     01/02/2022         02-01-22\n",
       "5    Marcus     08/07/2022         07-08-22\n",
       "6    Amanda     28/09/2022         09-28-22\n",
       "7   Larissa     28/05/2022         05-28-22\n",
       "8      Alon     06/10/2022         10-06-22"
      ]
     },
     "metadata": {},
     "output_type": "display_data"
    }
   ],
   "source": [
    "# datas no pandas\n",
    "\n",
    "df = pd.read_excel('Contratos.xlsx')\n",
    "display(df)"
   ]
  },
  {
   "cell_type": "code",
   "execution_count": 27,
   "id": "65572245",
   "metadata": {},
   "outputs": [
    {
     "name": "stdout",
     "output_type": "stream",
     "text": [
      "<class 'pandas.core.frame.DataFrame'>\n",
      "RangeIndex: 9 entries, 0 to 8\n",
      "Data columns (total 3 columns):\n",
      " #   Column            Non-Null Count  Dtype \n",
      "---  ------            --------------  ----- \n",
      " 0   Cliente           9 non-null      object\n",
      " 1   Data Pagamento    9 non-null      object\n",
      " 2   Data Pagamento 2  9 non-null      object\n",
      "dtypes: object(3)\n",
      "memory usage: 348.0+ bytes\n",
      "None\n"
     ]
    },
    {
     "name": "stderr",
     "output_type": "stream",
     "text": [
      "C:\\Users\\renat\\AppData\\Local\\Temp\\ipykernel_14656\\844868400.py:5: UserWarning: Parsing dates in %d/%m/%Y format when dayfirst=False (the default) was specified. Pass `dayfirst=True` or specify a format to silence this warning.\n",
      "  df['Data Pagamento'] = pd.to_datetime(df['Data Pagamento'])\n"
     ]
    },
    {
     "data": {
      "text/plain": [
       "0   2022-09-22\n",
       "1   2022-04-17\n",
       "2   2022-02-21\n",
       "3   2022-12-27\n",
       "4   2022-02-01\n",
       "5   2022-07-08\n",
       "6   2022-09-28\n",
       "7   2022-05-28\n",
       "8   2022-10-06\n",
       "Name: Data Pagamento, dtype: datetime64[ns]"
      ]
     },
     "execution_count": 27,
     "metadata": {},
     "output_type": "execute_result"
    }
   ],
   "source": [
    "# pesquisando tipo do dado no dataframe\n",
    "print(df.info()) # repare que object é um tipo igual a string...\n",
    "\n",
    "# convertendo a coluna Data Pagamento para tipo data\n",
    "df['Data Pagamento'] = pd.to_datetime(df['Data Pagamento'], format='%d-%m-%y')\n",
    "df['Data Pagamento']\n"
   ]
  },
  {
   "cell_type": "code",
   "execution_count": 28,
   "id": "25f4909e",
   "metadata": {},
   "outputs": [
    {
     "data": {
      "text/html": [
       "<div>\n",
       "<style scoped>\n",
       "    .dataframe tbody tr th:only-of-type {\n",
       "        vertical-align: middle;\n",
       "    }\n",
       "\n",
       "    .dataframe tbody tr th {\n",
       "        vertical-align: top;\n",
       "    }\n",
       "\n",
       "    .dataframe thead th {\n",
       "        text-align: right;\n",
       "    }\n",
       "</style>\n",
       "<table border=\"1\" class=\"dataframe\">\n",
       "  <thead>\n",
       "    <tr style=\"text-align: right;\">\n",
       "      <th></th>\n",
       "      <th>Nome</th>\n",
       "      <th>Email</th>\n",
       "    </tr>\n",
       "  </thead>\n",
       "  <tbody>\n",
       "    <tr>\n",
       "      <th>0</th>\n",
       "      <td>Fulano</td>\n",
       "      <td>fulano@gmail.com</td>\n",
       "    </tr>\n",
       "    <tr>\n",
       "      <th>1</th>\n",
       "      <td>Beltrano</td>\n",
       "      <td>beltrano@gmail.com</td>\n",
       "    </tr>\n",
       "    <tr>\n",
       "      <th>2</th>\n",
       "      <td>Ciclano</td>\n",
       "      <td>ciclano@gmail.com</td>\n",
       "    </tr>\n",
       "    <tr>\n",
       "      <th>3</th>\n",
       "      <td>Lira</td>\n",
       "      <td>lira@gmail.com</td>\n",
       "    </tr>\n",
       "    <tr>\n",
       "      <th>4</th>\n",
       "      <td>Julia</td>\n",
       "      <td>julia@gmail.com</td>\n",
       "    </tr>\n",
       "    <tr>\n",
       "      <th>5</th>\n",
       "      <td>Marcus</td>\n",
       "      <td>marcus@gmail.com</td>\n",
       "    </tr>\n",
       "    <tr>\n",
       "      <th>6</th>\n",
       "      <td>Amanda</td>\n",
       "      <td>amanda@gmail.com</td>\n",
       "    </tr>\n",
       "    <tr>\n",
       "      <th>7</th>\n",
       "      <td>Larissa</td>\n",
       "      <td>larissa@gmail.com</td>\n",
       "    </tr>\n",
       "    <tr>\n",
       "      <th>8</th>\n",
       "      <td>Alon</td>\n",
       "      <td>alon@gmail.com</td>\n",
       "    </tr>\n",
       "  </tbody>\n",
       "</table>\n",
       "</div>"
      ],
      "text/plain": [
       "       Nome               Email\n",
       "0    Fulano    fulano@gmail.com\n",
       "1  Beltrano  beltrano@gmail.com\n",
       "2   Ciclano   ciclano@gmail.com\n",
       "3      Lira      lira@gmail.com\n",
       "4     Julia     julia@gmail.com\n",
       "5    Marcus    marcus@gmail.com\n",
       "6    Amanda    amanda@gmail.com\n",
       "7   Larissa   larissa@gmail.com\n",
       "8      Alon      alon@gmail.com"
      ]
     },
     "metadata": {},
     "output_type": "display_data"
    },
    {
     "data": {
      "text/html": [
       "<div>\n",
       "<style scoped>\n",
       "    .dataframe tbody tr th:only-of-type {\n",
       "        vertical-align: middle;\n",
       "    }\n",
       "\n",
       "    .dataframe tbody tr th {\n",
       "        vertical-align: top;\n",
       "    }\n",
       "\n",
       "    .dataframe thead th {\n",
       "        text-align: right;\n",
       "    }\n",
       "</style>\n",
       "<table border=\"1\" class=\"dataframe\">\n",
       "  <thead>\n",
       "    <tr style=\"text-align: right;\">\n",
       "      <th></th>\n",
       "      <th>Cliente</th>\n",
       "      <th>Data Pagamento</th>\n",
       "      <th>Data Pagamento 2</th>\n",
       "      <th>Nome</th>\n",
       "      <th>Email</th>\n",
       "    </tr>\n",
       "  </thead>\n",
       "  <tbody>\n",
       "    <tr>\n",
       "      <th>0</th>\n",
       "      <td>Fulano</td>\n",
       "      <td>2022-09-22</td>\n",
       "      <td>09-22-22</td>\n",
       "      <td>Fulano</td>\n",
       "      <td>fulano@gmail.com</td>\n",
       "    </tr>\n",
       "    <tr>\n",
       "      <th>1</th>\n",
       "      <td>Beltrano</td>\n",
       "      <td>2022-04-17</td>\n",
       "      <td>04-17-22</td>\n",
       "      <td>Beltrano</td>\n",
       "      <td>beltrano@gmail.com</td>\n",
       "    </tr>\n",
       "    <tr>\n",
       "      <th>2</th>\n",
       "      <td>Ciclano</td>\n",
       "      <td>2022-02-21</td>\n",
       "      <td>02-21-22</td>\n",
       "      <td>Ciclano</td>\n",
       "      <td>ciclano@gmail.com</td>\n",
       "    </tr>\n",
       "    <tr>\n",
       "      <th>3</th>\n",
       "      <td>Lira</td>\n",
       "      <td>2022-12-27</td>\n",
       "      <td>12-27-22</td>\n",
       "      <td>Lira</td>\n",
       "      <td>lira@gmail.com</td>\n",
       "    </tr>\n",
       "    <tr>\n",
       "      <th>4</th>\n",
       "      <td>Julia</td>\n",
       "      <td>2022-02-01</td>\n",
       "      <td>02-01-22</td>\n",
       "      <td>Julia</td>\n",
       "      <td>julia@gmail.com</td>\n",
       "    </tr>\n",
       "    <tr>\n",
       "      <th>5</th>\n",
       "      <td>Marcus</td>\n",
       "      <td>2022-07-08</td>\n",
       "      <td>07-08-22</td>\n",
       "      <td>Marcus</td>\n",
       "      <td>marcus@gmail.com</td>\n",
       "    </tr>\n",
       "    <tr>\n",
       "      <th>6</th>\n",
       "      <td>Amanda</td>\n",
       "      <td>2022-09-28</td>\n",
       "      <td>09-28-22</td>\n",
       "      <td>Amanda</td>\n",
       "      <td>amanda@gmail.com</td>\n",
       "    </tr>\n",
       "    <tr>\n",
       "      <th>7</th>\n",
       "      <td>Larissa</td>\n",
       "      <td>2022-05-28</td>\n",
       "      <td>05-28-22</td>\n",
       "      <td>Larissa</td>\n",
       "      <td>larissa@gmail.com</td>\n",
       "    </tr>\n",
       "    <tr>\n",
       "      <th>8</th>\n",
       "      <td>Alon</td>\n",
       "      <td>2022-10-06</td>\n",
       "      <td>10-06-22</td>\n",
       "      <td>Alon</td>\n",
       "      <td>alon@gmail.com</td>\n",
       "    </tr>\n",
       "  </tbody>\n",
       "</table>\n",
       "</div>"
      ],
      "text/plain": [
       "    Cliente Data Pagamento Data Pagamento 2      Nome               Email\n",
       "0    Fulano     2022-09-22         09-22-22    Fulano    fulano@gmail.com\n",
       "1  Beltrano     2022-04-17         04-17-22  Beltrano  beltrano@gmail.com\n",
       "2   Ciclano     2022-02-21         02-21-22   Ciclano   ciclano@gmail.com\n",
       "3      Lira     2022-12-27         12-27-22      Lira      lira@gmail.com\n",
       "4     Julia     2022-02-01         02-01-22     Julia     julia@gmail.com\n",
       "5    Marcus     2022-07-08         07-08-22    Marcus    marcus@gmail.com\n",
       "6    Amanda     2022-09-28         09-28-22    Amanda    amanda@gmail.com\n",
       "7   Larissa     2022-05-28         05-28-22   Larissa   larissa@gmail.com\n",
       "8      Alon     2022-10-06         10-06-22      Alon      alon@gmail.com"
      ]
     },
     "metadata": {},
     "output_type": "display_data"
    }
   ],
   "source": [
    "# funcao merge do pandas\n",
    "\n",
    "df2=pd.read_excel('Emails.xlsx')\n",
    "display(df2)\n",
    "\n",
    "df = df.merge(df2, left_on='Cliente', right_on='Nome')\n",
    "display(df)"
   ]
  },
  {
   "cell_type": "markdown",
   "id": "57bdedb1",
   "metadata": {},
   "source": [
    "#### APIs"
   ]
  },
  {
   "cell_type": "code",
   "execution_count": 29,
   "id": "27555d35",
   "metadata": {},
   "outputs": [
    {
     "name": "stdout",
     "output_type": "stream",
     "text": [
      "2024-04-18 11:18:59.550557\n"
     ]
    }
   ],
   "source": [
    "# datetime\n",
    "from datetime import datetime\n",
    "\n",
    "hoje = datetime.now()\n",
    "print(hoje)"
   ]
  },
  {
   "cell_type": "code",
   "execution_count": null,
   "id": "4c1970b5",
   "metadata": {},
   "outputs": [],
   "source": [
    "# documentação de APIs cada uma é diferente da outra, \n",
    "# vejam o módulo de API que eu faço vários exemplos lá\n",
    "\n",
    "# exemplo sandbox https://dadosabertos.bcb.gov.br/dataset/dinheiro-em-circulao\n",
    "\n",
    "# exemplo documentação: https://www.alphavantage.co/"
   ]
  }
 ],
 "metadata": {
  "kernelspec": {
   "display_name": "Python 3 (ipykernel)",
   "language": "python",
   "name": "python3"
  },
  "language_info": {
   "codemirror_mode": {
    "name": "ipython",
    "version": 3
   },
   "file_extension": ".py",
   "mimetype": "text/x-python",
   "name": "python",
   "nbconvert_exporter": "python",
   "pygments_lexer": "ipython3",
   "version": "3.11.5"
  }
 },
 "nbformat": 4,
 "nbformat_minor": 5
}
